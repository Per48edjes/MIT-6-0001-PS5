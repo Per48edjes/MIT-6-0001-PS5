{
 "cells": [
  {
   "cell_type": "markdown",
   "metadata": {},
   "source": [
    "# MIT 6-0001 PS5\n",
    "## Scratchpad"
   ]
  },
  {
   "cell_type": "code",
   "execution_count": 64,
   "metadata": {
    "collapsed": true
   },
   "outputs": [],
   "source": [
    "# Import all dependencies\n",
    "import string\n",
    "from datetime import datetime\n",
    "import pytz"
   ]
  },
  {
   "cell_type": "markdown",
   "metadata": {},
   "source": [
    "## Developing `PhraseTrigger` class method `is_phrase_in`"
   ]
  },
  {
   "cell_type": "markdown",
   "metadata": {},
   "source": [
    "Given some text, the trigger should fire only when each word in the phrase is present in its entirety and appears consecutively in the text, separated only by spaces or punctuation. The trigger should not be case sensitive. \n",
    "\n",
    "For example, a phrase trigger with the phrase \"purple cow\" should fire on the following text snippets: \n",
    "- 'PURPLE COW'\n",
    "- 'The purple cow is soft and cuddly.'\n",
    "- 'The farmer owns a really PURPLE cow.'\n",
    "- 'Purple!!! Cow!!!'\n",
    "- 'purple@#$\\%cow'\n",
    "- 'Did you see a purple cow?'\n",
    "\n",
    "But it should not fire on these text snippets: \n",
    "- 'Purple cows are cool!'\n",
    "- 'The purple blob over there is a cow.'\n",
    "- 'How now brown cow.'\n",
    "- 'Cow!!! Purple!!!'\n",
    "- 'purplecowpurplecowpurplecow'\n",
    "\n",
    "Dealing with exclamation marks and other punctuation that appear in the middle of the phrase is a little tricky. For the purpose of your parsing, pretend that a space or any character in `string.punctuation` is a word separator. \n",
    "\n",
    "The `split`, `replace`, `join` methods of strings will almost certainly be helpful as you tackle this part. You may also find the string methods `lower` and/or `upper` useful for this problem."
   ]
  },
  {
   "cell_type": "code",
   "execution_count": 65,
   "metadata": {
    "collapsed": false
   },
   "outputs": [
    {
     "name": "stdout",
     "output_type": "stream",
     "text": [
      "True PURPLE COW \n",
      "True THE PURPLE COW IS SOFT AND CUDDLY \n",
      "True THE FARMER OWNS A REALLY PURPLE COW \n",
      "True PURPLE COW \n",
      "True PURPLE COW \n",
      "True DID YOU SEE A PURPLE COW \n",
      "False PURPLE COWS ARE COOL \n",
      "False THE PURPLE BLOB OVER THERE IS A COW \n",
      "False HOW NOW BROWN COW \n",
      "False COW PURPLE \n",
      "False PURPLECOWPURPLECOWPURPLECOW \n",
      "False PURPLE COWS \n"
     ]
    }
   ],
   "source": [
    "# Initialize argument variables\n",
    "true_texts = [\n",
    "    'PURPLE COW',\n",
    "    'The purple cow is soft and cuddly.',\n",
    "    'The farmer owns a really PURPLE cow.',\n",
    "    'Purple!!! Cow!!!',\n",
    "    'purple@#$\\%cow',\n",
    "    'Did you see a purple cow?'\n",
    "]\n",
    "\n",
    "false_texts = [\n",
    "    'Purple cows are cool!',\n",
    "    'The purple blob over there is a cow.',\n",
    "    'How now brown cow.',\n",
    "    'Cow!!! Purple!!!',\n",
    "    'purplecowpurplecowpurplecow',\n",
    "    'purple@#$$%##$%cows'\n",
    "]\n",
    "\n",
    "phrase = \"purple cow\"\n",
    "\n",
    "def is_phrase_in(text):\n",
    "\n",
    "    # Clean the text, phrase; adding in terminal space as delimiter\n",
    "    no_punct_text = ''.join(ch if ch not in string.punctuation else ' ' for ch in text.upper())\n",
    "    cleaned_text = ' '.join(no_punct_text.split()) + ' '\n",
    "    no_punct_phrase = ''.join(ch if ch not in string.punctuation else ' ' for ch in phrase.upper())\n",
    "    cleaned_phrase = ' '.join(no_punct_phrase.split()) + ' '\n",
    "    \n",
    "    # Search cleaned text for instance of exact phrase\n",
    "    if cleaned_phrase not in cleaned_text:\n",
    "        print(False, cleaned_text)\n",
    "    else:\n",
    "        print(True, cleaned_text)\n",
    "        \n",
    "# Testing\n",
    "for text in true_texts:\n",
    "    is_phrase_in(text)\n",
    "    \n",
    "for text in false_texts:\n",
    "    is_phrase_in(text)"
   ]
  },
  {
   "cell_type": "markdown",
   "metadata": {},
   "source": [
    "The class's constructor should **take in time in _EST_ as a _string_** in the format of `\"3 Oct 2016 17:00:10 \"`. Make sure to convert time from string to a datetime before saving it as an attribute. Some of datetime’s methods `strptime` and `replace`, along with an explanation of the string format for time, might come in handy. You can also look at the provided code in `process` to check."
   ]
  },
  {
   "cell_type": "code",
   "execution_count": 73,
   "metadata": {
    "collapsed": false
   },
   "outputs": [
    {
     "name": "stdout",
     "output_type": "stream",
     "text": [
      "EST\n"
     ]
    }
   ],
   "source": [
    "# Initialize argument variables\n",
    "test = \"3 Oct 2016 17:00:10\"\n",
    "\n",
    "def convert_str_to_date(str_time):\n",
    "    # Convert string to 'datetime' object\n",
    "    time = datetime.strptime(str_time, \"%d %b %Y %H:%M:%S\")\n",
    "    time = time.replace(tzinfo=pytz.timezone(\"EST\"))\n",
    "    print(time.tzinfo)\n",
    "\n",
    "# Testing\n",
    "convert_str_to_date(test)"
   ]
  }
 ],
 "metadata": {
  "kernelspec": {
   "display_name": "Python 3",
   "language": "python",
   "name": "python3"
  },
  "language_info": {
   "codemirror_mode": {
    "name": "ipython",
    "version": 3
   },
   "file_extension": ".py",
   "mimetype": "text/x-python",
   "name": "python",
   "nbconvert_exporter": "python",
   "pygments_lexer": "ipython3",
   "version": "3.6.0"
  }
 },
 "nbformat": 4,
 "nbformat_minor": 2
}
